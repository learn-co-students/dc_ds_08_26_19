{
 "cells": [
  {
   "cell_type": "code",
   "execution_count": 1,
   "metadata": {},
   "outputs": [
    {
     "name": "stdout",
     "output_type": "stream",
     "text": [
      "{'joey': [30, 'mathias'], 'catherine': [31, 'guarnieri'], 'liam': [29, 'mcmahon'], 'ryan': [32, 'dougherty'], 'george': [33, 'lauinger']}\n"
     ]
    }
   ],
   "source": [
    "friends = {}\n",
    "friends['joey'] = [30, 'mathias']\n",
    "friends['catherine'] = [31, 'guarnieri']\n",
    "friends['liam'] = [29, 'mcmahon']\n",
    "friends['ryan'] = [32, 'dougherty']\n",
    "friends['george'] = [33, 'lauinger']\n",
    "print(friends)"
   ]
  },
  {
   "cell_type": "code",
   "execution_count": 2,
   "metadata": {},
   "outputs": [
    {
     "name": "stdout",
     "output_type": "stream",
     "text": [
      "{'joey': [30, 'mathias'], 'catherine': [31, 'guarnieri'], 'liam': [29, 'mcmahon'], 'ryan': [32, 'dougherty']}\n"
     ]
    }
   ],
   "source": [
    "friends.pop('george')\n",
    "print(friends)"
   ]
  },
  {
   "cell_type": "code",
   "execution_count": 4,
   "metadata": {},
   "outputs": [
    {
     "name": "stdout",
     "output_type": "stream",
     "text": [
      "{'joey': [30, 'mathias'], 'catherine': [31, 'guarnieri'], 'liam': [29, 'mcmahon'], 'ryan': [32, 'dougherty']}\n"
     ]
    }
   ],
   "source": [
    "print(friends)"
   ]
  },
  {
   "cell_type": "code",
   "execution_count": 6,
   "metadata": {},
   "outputs": [
    {
     "name": "stdout",
     "output_type": "stream",
     "text": [
      "{'joey': [30, 'mathias'], 'catherine': [31, 'guarnieri'], 'liam': [29, 'mcmahon'], 'ryan': [32, 'dougherty']}\n"
     ]
    }
   ],
   "source": [
    "print(friends)"
   ]
  },
  {
   "cell_type": "code",
   "execution_count": 7,
   "metadata": {},
   "outputs": [
    {
     "name": "stdout",
     "output_type": "stream",
     "text": [
      "{'joey': [35, 'mathias'], 'catherine': [31, 'guarnieri'], 'liam': [29, 'mcmahon'], 'ryan': [32, 'dougherty']}\n"
     ]
    }
   ],
   "source": [
    "friends['joey'] = [35, 'mathias']\n",
    "print(friends)"
   ]
  },
  {
   "cell_type": "code",
   "execution_count": 8,
   "metadata": {},
   "outputs": [
    {
     "name": "stdout",
     "output_type": "stream",
     "text": [
      "[35]\n",
      "[35, 31]\n",
      "[35, 31, 29]\n",
      "[35, 31, 29, 32]\n"
     ]
    }
   ],
   "source": [
    "ages = []\n",
    "for person in friends:\n",
    "    ages.append(friends[person][0])\n",
    "    print(ages)"
   ]
  },
  {
   "cell_type": "code",
   "execution_count": 9,
   "metadata": {},
   "outputs": [
    {
     "name": "stdout",
     "output_type": "stream",
     "text": [
      "['mathias']\n",
      "['mathias', 'guarnieri']\n",
      "['mathias', 'guarnieri', 'mcmahon']\n",
      "['mathias', 'guarnieri', 'mcmahon', 'dougherty']\n"
     ]
    }
   ],
   "source": [
    "names = []\n",
    "for person in friends:\n",
    "    names.append(friends[person][1])\n",
    "    print(names)"
   ]
  },
  {
   "cell_type": "code",
   "execution_count": null,
   "metadata": {},
   "outputs": [],
   "source": []
  }
 ],
 "metadata": {
  "kernelspec": {
   "display_name": "Python 3",
   "language": "python",
   "name": "python3"
  },
  "language_info": {
   "codemirror_mode": {
    "name": "ipython",
    "version": 3
   },
   "file_extension": ".py",
   "mimetype": "text/x-python",
   "name": "python",
   "nbconvert_exporter": "python",
   "pygments_lexer": "ipython3",
   "version": "3.7.3"
  }
 },
 "nbformat": 4,
 "nbformat_minor": 2
}
