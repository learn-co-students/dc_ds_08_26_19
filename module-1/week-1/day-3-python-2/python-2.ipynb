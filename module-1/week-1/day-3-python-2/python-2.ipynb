{
 "cells": [
  {
   "cell_type": "markdown",
   "metadata": {},
   "source": [
    "## Python 102\n",
    "\n",
    "**Scenario:** Today we are going to build upon the for loops of yesterday. Who has ever got to the cash register at costco, or whole foods, seen the total and asked \"how did I spend that much?\". Today we have a grocery list of items and prices, but we do not have infinite money (unfortunately), so we need to have a program that will look at our grocery list and help us manage our shopping and cost.\n",
    "\n",
    "### Learning goals:\n",
    "\n",
    "Today we will:\n",
    " - revisit what for loop does, using a dictionary\n",
    " - use `break` to adjust loop activity\n",
    " - use nested loops to navigate a nested dictionary\n",
    " - write a robust function that will take any nested dictionary of items, costs, and print out your shopping list, stopping when the total cost gets to high, and telling you the average cost per item in your cart.\n",
    "\n",
    "Let's revisit what a for loop does. Here we have a list of items, and a separate list of costs. We are going to write a loop to print each item, it's cost, and the total of our grocery list.\n",
    "\n",
    "```python\n",
    "items = ['cheese', 'whole milk', 'kefir', 'tofu four-pack', 'kale', 'oranges', 'ham', 'ben & jerry\\'s']\n",
    "cost = [2.79, 3.42, 4.50, 12.00, 2.75, 3.64, 25.00, 5.29]\n",
    "```\n",
    "\n",
    "<img src=\"https://images.pexels.com/photos/1389103/pexels-photo-1389103.jpeg?auto=compress&cs=tinysrgb&dpr=2&h=750&w=1260\" width=550>\n",
    "\n",
    "### For loops:\n",
    "First, let's create a for-loop that prints each item in the list with \"I need to buy: \" item."
   ]
  },
  {
   "cell_type": "code",
   "execution_count": 25,
   "metadata": {},
   "outputs": [],
   "source": [
    "items = ['cheese', 'whole milk', 'kefir', 'tofu four-pack', 'kale', 'oranges', 'ham', 'ben & jerry\\'s', 'tic-tac']\n",
    "cost = [2.79, 3.42, 4.50, 12.00, 2.75, 3.64, 25.00, 5.29, .03]"
   ]
  },
  {
   "cell_type": "code",
   "execution_count": 2,
   "metadata": {},
   "outputs": [
    {
     "name": "stdout",
     "output_type": "stream",
     "text": [
      "I need to buy: cheese\n",
      "I need to buy: whole milk\n",
      "I need to buy: kefir\n",
      "I need to buy: tofu four-pack\n",
      "I need to buy: kale\n",
      "I need to buy: oranges\n",
      "I need to buy: ham\n",
      "I need to buy: ben & jerry's\n"
     ]
    }
   ],
   "source": [
    "for item in items:\n",
    "    print(\"I need to buy: \" _)"
   ]
  },
  {
   "cell_type": "markdown",
   "metadata": {},
   "source": [
    "Let's make that a little nicer looking:\n",
    "\n",
    "```python\n",
    "print(\"I need to buy: \")\n",
    "for item in items:\n",
    "   print(\" - [ ] \", item)\n",
    "```\n",
    "\n",
    "Okay, we want to work through a dictionary, so what's one way to convert those two lists to a dictionary?\n",
    "\n",
    "_Hint_: Check [this](https://www.w3schools.com/python/ref_func_zip.asp) documentation. "
   ]
  },
  {
   "cell_type": "code",
   "execution_count": 3,
   "metadata": {
    "scrolled": false
   },
   "outputs": [
    {
     "name": "stdout",
     "output_type": "stream",
     "text": [
      "I need to buy: \n",
      " - [ ]  cheese\n",
      " - [ ]  whole milk\n",
      " - [ ]  kefir\n",
      " - [ ]  tofu four-pack\n",
      " - [ ]  kale\n",
      " - [ ]  oranges\n",
      " - [ ]  ham\n",
      " - [ ]  ben & jerry's\n"
     ]
    }
   ],
   "source": [
    "print(\"I need to buy: \")\n",
    "for item in items:\n",
    "   print(\" - [ ] \", item)"
   ]
  },
  {
   "cell_type": "code",
   "execution_count": null,
   "metadata": {},
   "outputs": [],
   "source": [
    "I need to buy: \n",
    " - [ ]  cheese\n",
    " - [ ]  whole milk\n",
    " - [ ]  kefir\n",
    " - [ ]  tofu four-pack\n",
    " - [ ]  kale\n",
    " - [ ]  oranges\n",
    " - [ ]  ham\n",
    " - [ ]  ben & jerry's"
   ]
  },
  {
   "cell_type": "markdown",
   "metadata": {},
   "source": [
    "I need to buy: \n",
    " - [ ]  cheese\n",
    " - [ ]  whole milk\n",
    " - [ ]  kefir\n",
    " - [ ]  tofu four-pack\n",
    " - [ ]  kale\n",
    " - [ ]  oranges\n",
    " - [ ]  ham\n",
    " - [ ]  ben & jerry's"
   ]
  },
  {
   "cell_type": "code",
   "execution_count": 4,
   "metadata": {
    "scrolled": true
   },
   "outputs": [
    {
     "data": {
      "text/plain": [
       "{'cheese': 2.79,\n",
       " 'whole milk': 3.42,\n",
       " 'kefir': 4.5,\n",
       " 'tofu four-pack': 12.0,\n",
       " 'kale': 2.75,\n",
       " 'oranges': 3.64,\n",
       " 'ham': 25.0,\n",
       " \"ben & jerry's\": 5.29}"
      ]
     },
     "execution_count": 4,
     "metadata": {},
     "output_type": "execute_result"
    }
   ],
   "source": [
    "grocery_dict = {}\n",
    "index = 0\n",
    "for item in items:\n",
    "    grocery_dict[item] = cost[index]\n",
    "    index += 1\n",
    "    \n",
    "grocery_dict"
   ]
  },
  {
   "cell_type": "code",
   "execution_count": 26,
   "metadata": {
    "scrolled": true
   },
   "outputs": [
    {
     "name": "stdout",
     "output_type": "stream",
     "text": [
      "{'cheese': 2.79, 'whole milk': 3.42, 'kefir': 4.5, 'tofu four-pack': 12.0, 'tic-tac': 0.03}\n",
      "22.740000000000002\n"
     ]
    }
   ],
   "source": [
    "grocery_dict = {}\n",
    "running_total = 0\n",
    "\n",
    "for index, item in enumerate(items):\n",
    "    running_total += cost[index]\n",
    "    if running_total <= 25:\n",
    "            grocery_dict[item] = cost[index]\n",
    "    else:\n",
    "        running_total -= cost[index]\n",
    "        \n",
    "print(grocery_dict)\n",
    "print(sum(grocery_dict.values()))"
   ]
  },
  {
   "cell_type": "code",
   "execution_count": 8,
   "metadata": {},
   "outputs": [
    {
     "data": {
      "text/plain": [
       "{'cheese': 2.79,\n",
       " 'whole milk': 3.42,\n",
       " 'kefir': 4.5,\n",
       " 'tofu four-pack': 12.0,\n",
       " 'kale': 2.75,\n",
       " 'oranges': 3.64,\n",
       " 'ham': 25.0,\n",
       " \"ben & jerry's\": 5.29}"
      ]
     },
     "execution_count": 8,
     "metadata": {},
     "output_type": "execute_result"
    }
   ],
   "source": [
    "dict(zip(items, cost))"
   ]
  },
  {
   "cell_type": "markdown",
   "metadata": {},
   "source": [
    "So let's now add the total grocery bill at the end:"
   ]
  },
  {
   "cell_type": "code",
   "execution_count": 9,
   "metadata": {
    "scrolled": true
   },
   "outputs": [
    {
     "data": {
      "text/plain": [
       "{'cheese': 2.79,\n",
       " 'whole milk': 3.42,\n",
       " 'kefir': 4.5,\n",
       " 'tofu four-pack': 12.0,\n",
       " 'kale': 2.75,\n",
       " 'oranges': 3.64,\n",
       " 'ham': 25.0,\n",
       " \"ben & jerry's\": 5.29}"
      ]
     },
     "execution_count": 9,
     "metadata": {},
     "output_type": "execute_result"
    }
   ],
   "source": [
    "grocery_dict"
   ]
  },
  {
   "cell_type": "code",
   "execution_count": 10,
   "metadata": {},
   "outputs": [
    {
     "data": {
      "text/plain": [
       "dict_values([2.79, 3.42, 4.5, 12.0, 2.75, 3.64, 25.0, 5.29])"
      ]
     },
     "execution_count": 10,
     "metadata": {},
     "output_type": "execute_result"
    }
   ],
   "source": [
    "grocery_dict.values()"
   ]
  },
  {
   "cell_type": "code",
   "execution_count": 11,
   "metadata": {
    "scrolled": true
   },
   "outputs": [
    {
     "data": {
      "text/plain": [
       "59.39"
      ]
     },
     "execution_count": 11,
     "metadata": {},
     "output_type": "execute_result"
    }
   ],
   "source": [
    "sum(grocery_dict.values())"
   ]
  },
  {
   "cell_type": "code",
   "execution_count": null,
   "metadata": {},
   "outputs": [],
   "source": []
  },
  {
   "cell_type": "markdown",
   "metadata": {},
   "source": [
    "Does this look reasonable?\n",
    "\n",
    "What if you only had $25? \n",
    "\n",
    "How can you build it out to stop adding items when the total is over $25?\n",
    "\n",
    "### While, break, and continue\n",
    "What does a while loop look like in Python?"
   ]
  },
  {
   "cell_type": "code",
   "execution_count": 12,
   "metadata": {},
   "outputs": [
    {
     "name": "stdout",
     "output_type": "stream",
     "text": [
      "1\n",
      "2\n",
      "3\n",
      "4\n",
      "5\n"
     ]
    }
   ],
   "source": [
    "i = 1\n",
    "while i < 6:\n",
    "  print(i)\n",
    "  i += 1"
   ]
  },
  {
   "cell_type": "markdown",
   "metadata": {},
   "source": [
    "- What is break and continue?\n",
    "- Are they different? How?\n",
    "- Run the following code:"
   ]
  },
  {
   "cell_type": "code",
   "execution_count": 21,
   "metadata": {},
   "outputs": [
    {
     "name": "stdout",
     "output_type": "stream",
     "text": [
      "1\n",
      "2\n",
      "foo\n",
      "4\n",
      "5\n",
      "6\n"
     ]
    }
   ],
   "source": [
    "i = 0\n",
    "while i < 6:\n",
    "  i += 1\n",
    "  if i == 3:\n",
    "    print(\"foo\")\n",
    "    continue\n",
    "  print(i)"
   ]
  },
  {
   "cell_type": "markdown",
   "metadata": {},
   "source": [
    "How does the code above work?\n",
    "\n",
    "Now run this code:"
   ]
  },
  {
   "cell_type": "code",
   "execution_count": 20,
   "metadata": {},
   "outputs": [
    {
     "name": "stdout",
     "output_type": "stream",
     "text": [
      "1\n",
      "2\n",
      "foo\n"
     ]
    }
   ],
   "source": [
    "i = 0\n",
    "while i < 6:\n",
    "  i += 1\n",
    "  if i == 3:\n",
    "    print(\"foo\")\n",
    "    break\n",
    "  print(i)"
   ]
  },
  {
   "cell_type": "markdown",
   "metadata": {},
   "source": [
    "Why is the output different?\n",
    "\n",
    "It stopped at foo, why?\n",
    "\n",
    "We can also include `breaks` in for-loops.\n",
    "\n",
    "What would we use to **stop** the for loop if the total reached $25?"
   ]
  },
  {
   "cell_type": "code",
   "execution_count": null,
   "metadata": {},
   "outputs": [],
   "source": []
  },
  {
   "cell_type": "markdown",
   "metadata": {},
   "source": [
    "What if we wanted to use continue and break to stop the program if an item costs more than **$10** ?"
   ]
  },
  {
   "cell_type": "code",
   "execution_count": 27,
   "metadata": {},
   "outputs": [
    {
     "name": "stdout",
     "output_type": "stream",
     "text": [
      "{'cheese': 2.79, 'whole milk': 3.42, 'kefir': 4.5, 'kale': 2.75, 'oranges': 3.64, \"ben & jerry's\": 5.29, 'tic-tac': 0.03}\n",
      "22.42\n"
     ]
    }
   ],
   "source": [
    "grocery_dict = {}\n",
    "running_total = 0\n",
    "\n",
    "for index, item in enumerate(items):\n",
    "    if cost[index] > 10:\n",
    "        continue\n",
    "    running_total += cost[index]\n",
    "    if running_total <= 25:\n",
    "            grocery_dict[item] = cost[index]\n",
    "    else:\n",
    "        running_total -= cost[index]\n",
    "        \n",
    "print(grocery_dict)\n",
    "print(sum(grocery_dict.values()))"
   ]
  },
  {
   "cell_type": "markdown",
   "metadata": {},
   "source": [
    "### Nested Loops"
   ]
  },
  {
   "cell_type": "code",
   "execution_count": 3,
   "metadata": {},
   "outputs": [
    {
     "name": "stdout",
     "output_type": "stream",
     "text": [
      "loop1: 1\n",
      "loop2--- 1\n",
      "loop2--- 2\n",
      "loop2--- 3\n",
      "loop2--- 4\n",
      "loop2--- 5\n",
      "loop1: 2\n",
      "loop2--- 1\n",
      "loop2--- 2\n",
      "loop2--- 3\n",
      "loop2--- 4\n",
      "loop2--- 5\n",
      "loop1: 3\n",
      "loop2--- 1\n",
      "loop2--- 2\n",
      "loop2--- 3\n",
      "loop2--- 4\n",
      "loop2--- 5\n",
      "loop1: 4\n",
      "loop2--- 1\n",
      "loop2--- 2\n",
      "loop2--- 3\n",
      "loop2--- 4\n",
      "loop2--- 5\n",
      "loop1: 5\n",
      "loop2--- 1\n",
      "loop2--- 2\n",
      "loop2--- 3\n",
      "loop2--- 4\n",
      "loop2--- 5\n"
     ]
    }
   ],
   "source": [
    "list2 = [1,2,3,4,5]\n",
    "\n",
    "for x in list2:\n",
    "  print('loop1:', x)\n",
    "  for y in list2:\n",
    "    print('loop2---', y)"
   ]
  },
  {
   "cell_type": "markdown",
   "metadata": {},
   "source": [
    "What do you expect to see? Why?\n",
    "\n",
    "Here's a more complicated example, what is it doing?"
   ]
  },
  {
   "cell_type": "code",
   "execution_count": 51,
   "metadata": {},
   "outputs": [
    {
     "name": "stdout",
     "output_type": "stream",
     "text": [
      "we are doing step i: 2\n",
      "2  is prime\n",
      "we are doing step i: 3\n",
      "3  is prime\n",
      "we are doing step i: 4\n",
      "i: 4, j: 2, i/j: 2.0\n",
      "we are doing step i: 5\n",
      "i: 5, j: 2, i/j: 2.5\n",
      "5  is prime\n",
      "we are doing step i: 6\n",
      "i: 6, j: 2, i/j: 3.0\n",
      "we are doing step i: 7\n",
      "i: 7, j: 2, i/j: 3.5\n",
      "7  is prime\n",
      "we are doing step i: 8\n",
      "i: 8, j: 2, i/j: 4.0\n",
      "we are doing step i: 9\n",
      "i: 9, j: 2, i/j: 4.5\n",
      "i: 9, j: 3, i/j: 3.0\n",
      "we are doing step i: 10\n",
      "i: 10, j: 2, i/j: 5.0\n",
      "we are doing step i: 11\n",
      "i: 11, j: 2, i/j: 5.5\n",
      "i: 11, j: 3, i/j: 3.6666666666666665\n",
      "11  is prime\n",
      "we are doing step i: 12\n",
      "i: 12, j: 2, i/j: 6.0\n",
      "we are doing step i: 13\n",
      "i: 13, j: 2, i/j: 6.5\n",
      "i: 13, j: 3, i/j: 4.333333333333333\n",
      "13  is prime\n",
      "we are doing step i: 14\n",
      "i: 14, j: 2, i/j: 7.0\n",
      "we are doing step i: 15\n",
      "i: 15, j: 2, i/j: 7.5\n",
      "i: 15, j: 3, i/j: 5.0\n",
      "we are doing step i: 16\n",
      "i: 16, j: 2, i/j: 8.0\n",
      "we are doing step i: 17\n",
      "i: 17, j: 2, i/j: 8.5\n",
      "i: 17, j: 3, i/j: 5.666666666666667\n",
      "i: 17, j: 4, i/j: 4.25\n",
      "17  is prime\n",
      "we are doing step i: 18\n",
      "i: 18, j: 2, i/j: 9.0\n",
      "we are doing step i: 19\n",
      "i: 19, j: 2, i/j: 9.5\n",
      "i: 19, j: 3, i/j: 6.333333333333333\n",
      "i: 19, j: 4, i/j: 4.75\n",
      "19  is prime\n",
      "we are doing step i: 20\n",
      "i: 20, j: 2, i/j: 10.0\n",
      "we are doing step i: 21\n",
      "i: 21, j: 2, i/j: 10.5\n",
      "i: 21, j: 3, i/j: 7.0\n",
      "we are doing step i: 22\n",
      "i: 22, j: 2, i/j: 11.0\n",
      "we are doing step i: 23\n",
      "i: 23, j: 2, i/j: 11.5\n",
      "i: 23, j: 3, i/j: 7.666666666666667\n",
      "i: 23, j: 4, i/j: 5.75\n",
      "23  is prime\n",
      "we are doing step i: 24\n",
      "i: 24, j: 2, i/j: 12.0\n",
      "we are doing step i: 25\n",
      "i: 25, j: 2, i/j: 12.5\n",
      "i: 25, j: 3, i/j: 8.333333333333334\n",
      "i: 25, j: 4, i/j: 6.25\n",
      "i: 25, j: 5, i/j: 5.0\n",
      "we are doing step i: 26\n",
      "i: 26, j: 2, i/j: 13.0\n",
      "we are doing step i: 27\n",
      "i: 27, j: 2, i/j: 13.5\n",
      "i: 27, j: 3, i/j: 9.0\n",
      "we are doing step i: 28\n",
      "i: 28, j: 2, i/j: 14.0\n",
      "we are doing step i: 29\n",
      "i: 29, j: 2, i/j: 14.5\n",
      "i: 29, j: 3, i/j: 9.666666666666666\n",
      "i: 29, j: 4, i/j: 7.25\n",
      "i: 29, j: 5, i/j: 5.8\n",
      "29  is prime\n",
      "we are doing step i: 30\n",
      "i: 30, j: 2, i/j: 15.0\n",
      "we are doing step i: 31\n",
      "i: 31, j: 2, i/j: 15.5\n",
      "i: 31, j: 3, i/j: 10.333333333333334\n",
      "i: 31, j: 4, i/j: 7.75\n",
      "i: 31, j: 5, i/j: 6.2\n",
      "31  is prime\n",
      "we are doing step i: 32\n",
      "i: 32, j: 2, i/j: 16.0\n",
      "we are doing step i: 33\n",
      "i: 33, j: 2, i/j: 16.5\n",
      "i: 33, j: 3, i/j: 11.0\n",
      "we are doing step i: 34\n",
      "i: 34, j: 2, i/j: 17.0\n",
      "we are doing step i: 35\n",
      "i: 35, j: 2, i/j: 17.5\n",
      "i: 35, j: 3, i/j: 11.666666666666666\n",
      "i: 35, j: 4, i/j: 8.75\n",
      "i: 35, j: 5, i/j: 7.0\n",
      "we are doing step i: 36\n",
      "i: 36, j: 2, i/j: 18.0\n",
      "we are doing step i: 37\n",
      "i: 37, j: 2, i/j: 18.5\n",
      "i: 37, j: 3, i/j: 12.333333333333334\n",
      "i: 37, j: 4, i/j: 9.25\n",
      "i: 37, j: 5, i/j: 7.4\n",
      "i: 37, j: 6, i/j: 6.166666666666667\n",
      "37  is prime\n",
      "we are doing step i: 38\n",
      "i: 38, j: 2, i/j: 19.0\n",
      "we are doing step i: 39\n",
      "i: 39, j: 2, i/j: 19.5\n",
      "i: 39, j: 3, i/j: 13.0\n",
      "we are doing step i: 40\n",
      "i: 40, j: 2, i/j: 20.0\n",
      "we are doing step i: 41\n",
      "i: 41, j: 2, i/j: 20.5\n",
      "i: 41, j: 3, i/j: 13.666666666666666\n",
      "i: 41, j: 4, i/j: 10.25\n",
      "i: 41, j: 5, i/j: 8.2\n",
      "i: 41, j: 6, i/j: 6.833333333333333\n",
      "41  is prime\n",
      "we are doing step i: 42\n",
      "i: 42, j: 2, i/j: 21.0\n",
      "we are doing step i: 43\n",
      "i: 43, j: 2, i/j: 21.5\n",
      "i: 43, j: 3, i/j: 14.333333333333334\n",
      "i: 43, j: 4, i/j: 10.75\n",
      "i: 43, j: 5, i/j: 8.6\n",
      "i: 43, j: 6, i/j: 7.166666666666667\n",
      "43  is prime\n",
      "we are doing step i: 44\n",
      "i: 44, j: 2, i/j: 22.0\n",
      "we are doing step i: 45\n",
      "i: 45, j: 2, i/j: 22.5\n",
      "i: 45, j: 3, i/j: 15.0\n",
      "we are doing step i: 46\n",
      "i: 46, j: 2, i/j: 23.0\n",
      "we are doing step i: 47\n",
      "i: 47, j: 2, i/j: 23.5\n",
      "i: 47, j: 3, i/j: 15.666666666666666\n",
      "i: 47, j: 4, i/j: 11.75\n",
      "i: 47, j: 5, i/j: 9.4\n",
      "i: 47, j: 6, i/j: 7.833333333333333\n",
      "47  is prime\n",
      "we are doing step i: 48\n",
      "i: 48, j: 2, i/j: 24.0\n",
      "we are doing step i: 49\n",
      "i: 49, j: 2, i/j: 24.5\n",
      "i: 49, j: 3, i/j: 16.333333333333332\n",
      "i: 49, j: 4, i/j: 12.25\n",
      "i: 49, j: 5, i/j: 9.8\n",
      "i: 49, j: 6, i/j: 8.166666666666666\n",
      "i: 49, j: 7, i/j: 7.0\n",
      "we are doing step i: 50\n",
      "i: 50, j: 2, i/j: 25.0\n",
      "we are doing step i: 51\n",
      "i: 51, j: 2, i/j: 25.5\n",
      "i: 51, j: 3, i/j: 17.0\n",
      "we are doing step i: 52\n",
      "i: 52, j: 2, i/j: 26.0\n",
      "we are doing step i: 53\n",
      "i: 53, j: 2, i/j: 26.5\n",
      "i: 53, j: 3, i/j: 17.666666666666668\n",
      "i: 53, j: 4, i/j: 13.25\n",
      "i: 53, j: 5, i/j: 10.6\n",
      "i: 53, j: 6, i/j: 8.833333333333334\n",
      "i: 53, j: 7, i/j: 7.571428571428571\n",
      "53  is prime\n",
      "we are doing step i: 54\n",
      "i: 54, j: 2, i/j: 27.0\n",
      "we are doing step i: 55\n",
      "i: 55, j: 2, i/j: 27.5\n",
      "i: 55, j: 3, i/j: 18.333333333333332\n",
      "i: 55, j: 4, i/j: 13.75\n",
      "i: 55, j: 5, i/j: 11.0\n",
      "we are doing step i: 56\n",
      "i: 56, j: 2, i/j: 28.0\n",
      "we are doing step i: 57\n",
      "i: 57, j: 2, i/j: 28.5\n",
      "i: 57, j: 3, i/j: 19.0\n",
      "we are doing step i: 58\n",
      "i: 58, j: 2, i/j: 29.0\n",
      "we are doing step i: 59\n",
      "i: 59, j: 2, i/j: 29.5\n",
      "i: 59, j: 3, i/j: 19.666666666666668\n",
      "i: 59, j: 4, i/j: 14.75\n",
      "i: 59, j: 5, i/j: 11.8\n",
      "i: 59, j: 6, i/j: 9.833333333333334\n",
      "i: 59, j: 7, i/j: 8.428571428571429\n",
      "59  is prime\n",
      "we are doing step i: 60\n",
      "i: 60, j: 2, i/j: 30.0\n",
      "we are doing step i: 61\n",
      "i: 61, j: 2, i/j: 30.5\n",
      "i: 61, j: 3, i/j: 20.333333333333332\n",
      "i: 61, j: 4, i/j: 15.25\n",
      "i: 61, j: 5, i/j: 12.2\n",
      "i: 61, j: 6, i/j: 10.166666666666666\n",
      "i: 61, j: 7, i/j: 8.714285714285714\n",
      "61  is prime\n",
      "we are doing step i: 62\n",
      "i: 62, j: 2, i/j: 31.0\n",
      "we are doing step i: 63\n",
      "i: 63, j: 2, i/j: 31.5\n",
      "i: 63, j: 3, i/j: 21.0\n",
      "we are doing step i: 64\n",
      "i: 64, j: 2, i/j: 32.0\n",
      "we are doing step i: 65\n",
      "i: 65, j: 2, i/j: 32.5\n",
      "i: 65, j: 3, i/j: 21.666666666666668\n",
      "i: 65, j: 4, i/j: 16.25\n",
      "i: 65, j: 5, i/j: 13.0\n",
      "we are doing step i: 66\n",
      "i: 66, j: 2, i/j: 33.0\n",
      "we are doing step i: 67\n",
      "i: 67, j: 2, i/j: 33.5\n",
      "i: 67, j: 3, i/j: 22.333333333333332\n",
      "i: 67, j: 4, i/j: 16.75\n",
      "i: 67, j: 5, i/j: 13.4\n",
      "i: 67, j: 6, i/j: 11.166666666666666\n",
      "i: 67, j: 7, i/j: 9.571428571428571\n",
      "i: 67, j: 8, i/j: 8.375\n",
      "67  is prime\n",
      "we are doing step i: 68\n",
      "i: 68, j: 2, i/j: 34.0\n",
      "we are doing step i: 69\n",
      "i: 69, j: 2, i/j: 34.5\n",
      "i: 69, j: 3, i/j: 23.0\n",
      "we are doing step i: 70\n",
      "i: 70, j: 2, i/j: 35.0\n",
      "we are doing step i: 71\n",
      "i: 71, j: 2, i/j: 35.5\n",
      "i: 71, j: 3, i/j: 23.666666666666668\n",
      "i: 71, j: 4, i/j: 17.75\n",
      "i: 71, j: 5, i/j: 14.2\n",
      "i: 71, j: 6, i/j: 11.833333333333334\n",
      "i: 71, j: 7, i/j: 10.142857142857142\n",
      "i: 71, j: 8, i/j: 8.875\n",
      "71  is prime\n",
      "we are doing step i: 72\n",
      "i: 72, j: 2, i/j: 36.0\n",
      "we are doing step i: 73\n",
      "i: 73, j: 2, i/j: 36.5\n",
      "i: 73, j: 3, i/j: 24.333333333333332\n",
      "i: 73, j: 4, i/j: 18.25\n",
      "i: 73, j: 5, i/j: 14.6\n",
      "i: 73, j: 6, i/j: 12.166666666666666\n",
      "i: 73, j: 7, i/j: 10.428571428571429\n",
      "i: 73, j: 8, i/j: 9.125\n",
      "73  is prime\n",
      "we are doing step i: 74\n",
      "i: 74, j: 2, i/j: 37.0\n",
      "we are doing step i: 75\n",
      "i: 75, j: 2, i/j: 37.5\n",
      "i: 75, j: 3, i/j: 25.0\n",
      "we are doing step i: 76\n",
      "i: 76, j: 2, i/j: 38.0\n",
      "we are doing step i: 77\n",
      "i: 77, j: 2, i/j: 38.5\n",
      "i: 77, j: 3, i/j: 25.666666666666668\n",
      "i: 77, j: 4, i/j: 19.25\n",
      "i: 77, j: 5, i/j: 15.4\n",
      "i: 77, j: 6, i/j: 12.833333333333334\n",
      "i: 77, j: 7, i/j: 11.0\n",
      "we are doing step i: 78\n",
      "i: 78, j: 2, i/j: 39.0\n",
      "we are doing step i: 79\n",
      "i: 79, j: 2, i/j: 39.5\n",
      "i: 79, j: 3, i/j: 26.333333333333332\n",
      "i: 79, j: 4, i/j: 19.75\n",
      "i: 79, j: 5, i/j: 15.8\n",
      "i: 79, j: 6, i/j: 13.166666666666666\n",
      "i: 79, j: 7, i/j: 11.285714285714286\n",
      "i: 79, j: 8, i/j: 9.875\n",
      "79  is prime\n",
      "we are doing step i: 80\n",
      "i: 80, j: 2, i/j: 40.0\n",
      "we are doing step i: 81\n",
      "i: 81, j: 2, i/j: 40.5\n",
      "i: 81, j: 3, i/j: 27.0\n",
      "we are doing step i: 82\n",
      "i: 82, j: 2, i/j: 41.0\n",
      "we are doing step i: 83\n",
      "i: 83, j: 2, i/j: 41.5\n",
      "i: 83, j: 3, i/j: 27.666666666666668\n",
      "i: 83, j: 4, i/j: 20.75\n",
      "i: 83, j: 5, i/j: 16.6\n",
      "i: 83, j: 6, i/j: 13.833333333333334\n",
      "i: 83, j: 7, i/j: 11.857142857142858\n",
      "i: 83, j: 8, i/j: 10.375\n",
      "i: 83, j: 9, i/j: 9.222222222222221\n",
      "83  is prime\n",
      "we are doing step i: 84\n",
      "i: 84, j: 2, i/j: 42.0\n",
      "we are doing step i: 85\n",
      "i: 85, j: 2, i/j: 42.5\n",
      "i: 85, j: 3, i/j: 28.333333333333332\n",
      "i: 85, j: 4, i/j: 21.25\n",
      "i: 85, j: 5, i/j: 17.0\n",
      "we are doing step i: 86\n",
      "i: 86, j: 2, i/j: 43.0\n",
      "we are doing step i: 87\n",
      "i: 87, j: 2, i/j: 43.5\n",
      "i: 87, j: 3, i/j: 29.0\n",
      "we are doing step i: 88\n",
      "i: 88, j: 2, i/j: 44.0\n",
      "we are doing step i: 89\n",
      "i: 89, j: 2, i/j: 44.5\n",
      "i: 89, j: 3, i/j: 29.666666666666668\n",
      "i: 89, j: 4, i/j: 22.25\n",
      "i: 89, j: 5, i/j: 17.8\n",
      "i: 89, j: 6, i/j: 14.833333333333334\n",
      "i: 89, j: 7, i/j: 12.714285714285714\n",
      "i: 89, j: 8, i/j: 11.125\n",
      "i: 89, j: 9, i/j: 9.88888888888889\n",
      "89  is prime\n",
      "we are doing step i: 90\n",
      "i: 90, j: 2, i/j: 45.0\n",
      "we are doing step i: 91\n",
      "i: 91, j: 2, i/j: 45.5\n",
      "i: 91, j: 3, i/j: 30.333333333333332\n",
      "i: 91, j: 4, i/j: 22.75\n",
      "i: 91, j: 5, i/j: 18.2\n",
      "i: 91, j: 6, i/j: 15.166666666666666\n",
      "i: 91, j: 7, i/j: 13.0\n",
      "we are doing step i: 92\n",
      "i: 92, j: 2, i/j: 46.0\n",
      "we are doing step i: 93\n",
      "i: 93, j: 2, i/j: 46.5\n",
      "i: 93, j: 3, i/j: 31.0\n",
      "we are doing step i: 94\n",
      "i: 94, j: 2, i/j: 47.0\n",
      "we are doing step i: 95\n",
      "i: 95, j: 2, i/j: 47.5\n",
      "i: 95, j: 3, i/j: 31.666666666666668\n",
      "i: 95, j: 4, i/j: 23.75\n",
      "i: 95, j: 5, i/j: 19.0\n",
      "we are doing step i: 96\n",
      "i: 96, j: 2, i/j: 48.0\n",
      "we are doing step i: 97\n",
      "i: 97, j: 2, i/j: 48.5\n",
      "i: 97, j: 3, i/j: 32.333333333333336\n",
      "i: 97, j: 4, i/j: 24.25\n",
      "i: 97, j: 5, i/j: 19.4\n",
      "i: 97, j: 6, i/j: 16.166666666666668\n",
      "i: 97, j: 7, i/j: 13.857142857142858\n",
      "i: 97, j: 8, i/j: 12.125\n",
      "i: 97, j: 9, i/j: 10.777777777777779\n",
      "97  is prime\n",
      "we are doing step i: 98\n",
      "i: 98, j: 2, i/j: 49.0\n",
      "we are doing step i: 99\n",
      "i: 99, j: 2, i/j: 49.5\n",
      "i: 99, j: 3, i/j: 33.0\n",
      "Good bye!\n"
     ]
    }
   ],
   "source": [
    "i = 2\n",
    "while(i < 100):\n",
    "   print(f\"we are doing step i: {i}\")\n",
    "   j = 2\n",
    "   while j <= (i/j):\n",
    "      print(f\"i: {i}, j: {j}, i/j: {i/j}\")\n",
    "      if not(i%j):\n",
    "        break\n",
    "      j = j + 1\n",
    "   if (j > i/j) :\n",
    "        print( i, \" is prime\")\n",
    "   i = i + 1\n",
    "\n",
    "print (\"Good bye!\")"
   ]
  },
  {
   "cell_type": "markdown",
   "metadata": {},
   "source": [
    "Here is a more robust shopping list of nested dictionaries:\n",
    "```\n",
    "shopping_dict = {'Grocieries': {'ben & jerrys': 5.29, 'cheese': 2.79,'ham': 25.0, 'kale': 2.75,'kefir': 4.5,'oranges': 3.64,'tofu four-pack': 12.0,'whole milk': 3.42},\n",
    "                 'House supplies': {'toilet paper pack': 16.50, 'clorox spray': 6.43, 'kleenex': 2.50,},\n",
    "                 'Pet supplies': {'Taste of the Wild': 65.20, 'squeaky toy': 4.50, 'duck feet': 8.45}}\n",
    "```\n",
    "\n",
    "write the nested for loops to print out each grocery list with its total\n",
    "\n",
    "_Hint_\n",
    "\n",
    "- use [this link](https://pyformat.info/#number) for help in formatting the total to two decimal places"
   ]
  },
  {
   "cell_type": "code",
   "execution_count": 37,
   "metadata": {},
   "outputs": [],
   "source": [
    "shopping_dict = {'Groceries': {'ben & jerrys': 5.29, 'cheese': 2.79,'ham': 25.0, 'kale': 2.75,'kefir': 4.5,'oranges': 3.64,'tofu four-pack': 12.0,'whole milk': 3.42},\n",
    "                 'House supplies': {'toilet paper pack': 16.50, 'clorox spray': 6.43, 'kleenex': 2.50,},\n",
    "                 'Pet supplies': {'Taste of the Wild': 65.20, 'squeaky toy': 4.50, 'duck feet': 8.45}}\n"
   ]
  },
  {
   "cell_type": "code",
   "execution_count": 34,
   "metadata": {
    "scrolled": true
   },
   "outputs": [
    {
     "name": "stdout",
     "output_type": "stream",
     "text": [
      "{'Grocieries': {'ben & jerrys': 5.29, 'cheese': 2.79, 'ham': 25.0, 'kale': 2.75, 'kefir': 4.5, 'oranges': 3.64, 'tofu four-pack': 12.0, 'whole milk': 3.42}, 'House supplies': {'toilet paper pack': 16.5, 'clorox spray': 6.43, 'kleenex': 2.5}, 'Pet supplies': {'Taste of the Wild': 65.2, 'squeaky toy': 4.5, 'duck feet': 8.45}}\n"
     ]
    }
   ],
   "source": [
    "print(shopping_dict)"
   ]
  },
  {
   "cell_type": "code",
   "execution_count": 38,
   "metadata": {
    "scrolled": true
   },
   "outputs": [
    {
     "data": {
      "text/plain": [
       "dict_keys(['Groceries', 'House supplies', 'Pet supplies'])"
      ]
     },
     "execution_count": 38,
     "metadata": {},
     "output_type": "execute_result"
    }
   ],
   "source": [
    "shopping_dict.keys()"
   ]
  },
  {
   "cell_type": "code",
   "execution_count": 45,
   "metadata": {},
   "outputs": [
    {
     "name": "stdout",
     "output_type": "stream",
     "text": [
      "Groceries: Total = $59.39\n",
      " - ben & jerrys\n",
      " - cheese\n",
      " - ham\n",
      " - kale\n",
      " - kefir\n",
      " - oranges\n",
      " - tofu four-pack\n",
      " - whole milk\n",
      "House supplies: Total = $25.43\n",
      " - toilet paper pack\n",
      " - clorox spray\n",
      " - kleenex\n",
      "Pet supplies: Total = $78.15\n",
      " - Taste of the Wild\n",
      " - squeaky toy\n",
      " - duck feet\n"
     ]
    }
   ],
   "source": [
    "for key, value in shopping_dict.items():\n",
    "    print(f\"{key}: Total = ${sum(value.values())}\")\n",
    "    for item in value:\n",
    "        print(\" - \" + item)"
   ]
  },
  {
   "cell_type": "markdown",
   "metadata": {},
   "source": [
    "### Functions\n",
    "\n",
    "**Built-in functions** <br>\n",
    "Many useful functions are already built into Python:<br>\n",
    "\n",
    "`print()`: print the given string or variable's value<br>\n",
    "`type()`: returns the datatype of the argument<br>\n",
    "`len()`: returns the length of an array<br>\n",
    "`sum()`: returns the sum of the array's values<br>\n",
    "`min()`: returns the smallest member of an array <br>\n",
    "`max()`: returns the largest member of an array<br>\n",
    "\n",
    "\n",
    "**Writing your own functions**\n",
    "\n",
    "```python\n",
    "def sayHello():\n",
    "  print(\"Hello!\")\n",
    "```\n",
    "How do we run it?\n",
    "\n",
    "```python\n",
    "sayHello()\n",
    "```\n",
    "\n",
    "Let's talk about arguments or parameters. Let's say we want to make this function more dynamic and print out whatever we want! How would we do that?\n",
    "```python\n",
    "def shout(phrase):\n",
    "  print(phrase + \"!!!\")\n",
    "shout(\"oh hai\")\n",
    "```"
   ]
  },
  {
   "cell_type": "code",
   "execution_count": null,
   "metadata": {},
   "outputs": [],
   "source": []
  },
  {
   "cell_type": "markdown",
   "metadata": {},
   "source": [
    "What if we don't pass in an argument? What happens?\n",
    "Maybe we can establish a default value for the argument in case it isn't passed in.\n",
    "\n",
    "```python\n",
    "def shout(phrase = \"oh hai\"):\n",
    "  print(phrase + \"!!!\")\n",
    "\n",
    "shout()\n",
    "shout(\"bye\")\n",
    "```"
   ]
  },
  {
   "cell_type": "code",
   "execution_count": null,
   "metadata": {},
   "outputs": [],
   "source": []
  },
  {
   "cell_type": "markdown",
   "metadata": {},
   "source": [
    "What if we wanted to run a function, take its output and put it in to another function?\n",
    "\n",
    "```python\n",
    "def add_one(number):\n",
    "  return number + 1\n",
    "\n",
    "def times_five(number):\n",
    "  return number * 5\n",
    "\n",
    "number_plus_one = add_one(1)\n",
    "answer = times_five(number_plus_one)\n",
    "print(answer)\n",
    "```\n",
    "\n",
    "What will the above code return?"
   ]
  },
  {
   "cell_type": "code",
   "execution_count": null,
   "metadata": {},
   "outputs": [],
   "source": []
  },
  {
   "cell_type": "markdown",
   "metadata": {},
   "source": [
    "Adapt your shopping list nested for-loop to be wrapped in a function you could call on any shopping list of nested dictionaries."
   ]
  },
  {
   "cell_type": "code",
   "execution_count": null,
   "metadata": {},
   "outputs": [],
   "source": []
  },
  {
   "cell_type": "markdown",
   "metadata": {},
   "source": [
    "### Mathematical Notation and Measures of Central Tendency \n",
    "\n",
    "median vs mode vs mean<br>\n",
    "What's the difference?\n",
    "\n",
    "\n",
    "```python\n",
    "samp_list = [1,1,1,1,2,2,2,3,3,10,44]\n",
    "```\n",
    "\n",
    "How could you write a for loop to calculate the mean?"
   ]
  },
  {
   "cell_type": "code",
   "execution_count": null,
   "metadata": {},
   "outputs": [],
   "source": [
    "samp_list = [1,1,1,1,2,2,2,3,3,10,44]\n",
    "\n",
    "\n"
   ]
  },
  {
   "cell_type": "markdown",
   "metadata": {},
   "source": [
    "### Integration\n",
    "\n",
    "adapt your function to do the following:\n",
    "- stop the nested loop if a grocery total goes over $30\n",
    "- print out the average cost of per item in your cart"
   ]
  },
  {
   "cell_type": "markdown",
   "metadata": {},
   "source": [
    "## Jupyter Bonus\n",
    "\n",
    "This doesn't really fit in with the rest of Python 102, but Jupyter is incredibly flexible! Here are two examples of embedding beautiful LaTex scripting in a notebook."
   ]
  },
  {
   "cell_type": "code",
   "execution_count": 1,
   "metadata": {},
   "outputs": [
    {
     "data": {
      "text/latex": [
       "$$\\lim\\limits_{x \\to \\infty} \\exp(-x) = 0$$"
      ],
      "text/plain": [
       "<IPython.core.display.Latex object>"
      ]
     },
     "metadata": {},
     "output_type": "display_data"
    }
   ],
   "source": [
    "%%latex # this will make the entire cell LaTeX syntax\n",
    "$$\\lim\\limits_{x \\to \\infty} \\exp(-x) = 0$$"
   ]
  },
  {
   "cell_type": "code",
   "execution_count": 2,
   "metadata": {},
   "outputs": [
    {
     "data": {
      "text/latex": [
       "$\\displaystyle F(k) = \\int_{-\\infty}^{\\infty} f(x) e^{2\\pi i k} dx$"
      ],
      "text/plain": [
       "<IPython.core.display.Math object>"
      ]
     },
     "execution_count": 2,
     "metadata": {},
     "output_type": "execute_result"
    }
   ],
   "source": [
    "from IPython.display import Math\n",
    "# this imports a function called Math() in which you can pass in a raw string of LaTeX\n",
    "Math('F(k) = \\int_{-\\infty}^{\\infty} f(x) e^{2\\pi i k} dx')"
   ]
  }
 ],
 "metadata": {
  "kernelspec": {
   "display_name": "Python 3",
   "language": "python",
   "name": "python3"
  },
  "language_info": {
   "codemirror_mode": {
    "name": "ipython",
    "version": 3
   },
   "file_extension": ".py",
   "mimetype": "text/x-python",
   "name": "python",
   "nbconvert_exporter": "python",
   "pygments_lexer": "ipython3",
   "version": "3.7.3"
  }
 },
 "nbformat": 4,
 "nbformat_minor": 2
}
