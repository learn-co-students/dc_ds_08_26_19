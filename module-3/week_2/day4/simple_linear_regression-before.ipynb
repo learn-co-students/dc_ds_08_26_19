{
 "cells": [
  {
   "cell_type": "markdown",
   "metadata": {},
   "source": [
    "# Introduction to Simple Linear Regression\n",
    "\n",
    "\n",
    "## Learning Objectives and outcomes\n",
    "\n",
    "- Introduction of linear regression in the simple setting.\n",
    "\n",
    "- Basic assumptions of the model.\n",
    "\n",
    "- Terminology - 'intercept', 'coefficient'.\n",
    "\n",
    "- The Least Square method.\n",
    "    \n",
    "- Implement linear regression in sklearn.\n",
    "\n",
    "\n"
   ]
  },
  {
   "cell_type": "code",
   "execution_count": 3,
   "metadata": {},
   "outputs": [],
   "source": [
    "import pandas as pd\n",
    "\n",
    "import numpy as np\n",
    "\n",
    "import matplotlib.pyplot as plt\n",
    "\n",
    "%matplotlib inline"
   ]
  },
  {
   "cell_type": "code",
   "execution_count": 4,
   "metadata": {},
   "outputs": [],
   "source": [
    "## read data to a dataframe\n",
    "house_df = pd.read_csv('data/kc_house_data.csv')\n",
    "\n",
    "## scale price with 1000 so that it will be easier \n",
    "new_house_df = house_df[['sqft_living', 'price']]"
   ]
  },
  {
   "cell_type": "code",
   "execution_count": 5,
   "metadata": {
    "scrolled": true
   },
   "outputs": [
    {
     "name": "stderr",
     "output_type": "stream",
     "text": [
      "/Users/flatironschool/anaconda3/lib/python3.7/site-packages/pandas/core/generic.py:5096: SettingWithCopyWarning: \n",
      "A value is trying to be set on a copy of a slice from a DataFrame.\n",
      "Try using .loc[row_indexer,col_indexer] = value instead\n",
      "\n",
      "See the caveats in the documentation: http://pandas.pydata.org/pandas-docs/stable/indexing.html#indexing-view-versus-copy\n",
      "  self[name] = value\n"
     ]
    }
   ],
   "source": [
    "new_house_df.price = new_house_df.price / 1000"
   ]
  },
  {
   "cell_type": "code",
   "execution_count": 6,
   "metadata": {},
   "outputs": [
    {
     "data": {
      "text/html": [
       "<div>\n",
       "<style scoped>\n",
       "    .dataframe tbody tr th:only-of-type {\n",
       "        vertical-align: middle;\n",
       "    }\n",
       "\n",
       "    .dataframe tbody tr th {\n",
       "        vertical-align: top;\n",
       "    }\n",
       "\n",
       "    .dataframe thead th {\n",
       "        text-align: right;\n",
       "    }\n",
       "</style>\n",
       "<table border=\"1\" class=\"dataframe\">\n",
       "  <thead>\n",
       "    <tr style=\"text-align: right;\">\n",
       "      <th></th>\n",
       "      <th>sqft_living</th>\n",
       "      <th>price</th>\n",
       "    </tr>\n",
       "  </thead>\n",
       "  <tbody>\n",
       "    <tr>\n",
       "      <th>0</th>\n",
       "      <td>1180</td>\n",
       "      <td>221.900</td>\n",
       "    </tr>\n",
       "    <tr>\n",
       "      <th>1</th>\n",
       "      <td>2570</td>\n",
       "      <td>538.000</td>\n",
       "    </tr>\n",
       "    <tr>\n",
       "      <th>2</th>\n",
       "      <td>770</td>\n",
       "      <td>180.000</td>\n",
       "    </tr>\n",
       "    <tr>\n",
       "      <th>3</th>\n",
       "      <td>1960</td>\n",
       "      <td>604.000</td>\n",
       "    </tr>\n",
       "    <tr>\n",
       "      <th>4</th>\n",
       "      <td>1680</td>\n",
       "      <td>510.000</td>\n",
       "    </tr>\n",
       "    <tr>\n",
       "      <th>5</th>\n",
       "      <td>5420</td>\n",
       "      <td>1225.000</td>\n",
       "    </tr>\n",
       "    <tr>\n",
       "      <th>6</th>\n",
       "      <td>1715</td>\n",
       "      <td>257.500</td>\n",
       "    </tr>\n",
       "    <tr>\n",
       "      <th>7</th>\n",
       "      <td>1060</td>\n",
       "      <td>291.850</td>\n",
       "    </tr>\n",
       "    <tr>\n",
       "      <th>8</th>\n",
       "      <td>1780</td>\n",
       "      <td>229.500</td>\n",
       "    </tr>\n",
       "    <tr>\n",
       "      <th>9</th>\n",
       "      <td>1890</td>\n",
       "      <td>323.000</td>\n",
       "    </tr>\n",
       "    <tr>\n",
       "      <th>10</th>\n",
       "      <td>3560</td>\n",
       "      <td>662.500</td>\n",
       "    </tr>\n",
       "    <tr>\n",
       "      <th>11</th>\n",
       "      <td>1160</td>\n",
       "      <td>468.000</td>\n",
       "    </tr>\n",
       "    <tr>\n",
       "      <th>12</th>\n",
       "      <td>1430</td>\n",
       "      <td>310.000</td>\n",
       "    </tr>\n",
       "    <tr>\n",
       "      <th>13</th>\n",
       "      <td>1370</td>\n",
       "      <td>400.000</td>\n",
       "    </tr>\n",
       "    <tr>\n",
       "      <th>14</th>\n",
       "      <td>1810</td>\n",
       "      <td>530.000</td>\n",
       "    </tr>\n",
       "    <tr>\n",
       "      <th>15</th>\n",
       "      <td>2950</td>\n",
       "      <td>650.000</td>\n",
       "    </tr>\n",
       "    <tr>\n",
       "      <th>16</th>\n",
       "      <td>1890</td>\n",
       "      <td>395.000</td>\n",
       "    </tr>\n",
       "    <tr>\n",
       "      <th>17</th>\n",
       "      <td>1600</td>\n",
       "      <td>485.000</td>\n",
       "    </tr>\n",
       "    <tr>\n",
       "      <th>18</th>\n",
       "      <td>1200</td>\n",
       "      <td>189.000</td>\n",
       "    </tr>\n",
       "    <tr>\n",
       "      <th>19</th>\n",
       "      <td>1250</td>\n",
       "      <td>230.000</td>\n",
       "    </tr>\n",
       "    <tr>\n",
       "      <th>20</th>\n",
       "      <td>1620</td>\n",
       "      <td>385.000</td>\n",
       "    </tr>\n",
       "    <tr>\n",
       "      <th>21</th>\n",
       "      <td>3050</td>\n",
       "      <td>2000.000</td>\n",
       "    </tr>\n",
       "    <tr>\n",
       "      <th>22</th>\n",
       "      <td>2270</td>\n",
       "      <td>285.000</td>\n",
       "    </tr>\n",
       "    <tr>\n",
       "      <th>23</th>\n",
       "      <td>1070</td>\n",
       "      <td>252.700</td>\n",
       "    </tr>\n",
       "    <tr>\n",
       "      <th>24</th>\n",
       "      <td>2450</td>\n",
       "      <td>329.000</td>\n",
       "    </tr>\n",
       "    <tr>\n",
       "      <th>25</th>\n",
       "      <td>1710</td>\n",
       "      <td>233.000</td>\n",
       "    </tr>\n",
       "    <tr>\n",
       "      <th>26</th>\n",
       "      <td>2450</td>\n",
       "      <td>937.000</td>\n",
       "    </tr>\n",
       "    <tr>\n",
       "      <th>27</th>\n",
       "      <td>1400</td>\n",
       "      <td>667.000</td>\n",
       "    </tr>\n",
       "    <tr>\n",
       "      <th>28</th>\n",
       "      <td>1520</td>\n",
       "      <td>438.000</td>\n",
       "    </tr>\n",
       "    <tr>\n",
       "      <th>29</th>\n",
       "      <td>2570</td>\n",
       "      <td>719.000</td>\n",
       "    </tr>\n",
       "    <tr>\n",
       "      <th>...</th>\n",
       "      <td>...</td>\n",
       "      <td>...</td>\n",
       "    </tr>\n",
       "    <tr>\n",
       "      <th>21583</th>\n",
       "      <td>710</td>\n",
       "      <td>399.950</td>\n",
       "    </tr>\n",
       "    <tr>\n",
       "      <th>21584</th>\n",
       "      <td>1260</td>\n",
       "      <td>380.000</td>\n",
       "    </tr>\n",
       "    <tr>\n",
       "      <th>21585</th>\n",
       "      <td>1870</td>\n",
       "      <td>270.000</td>\n",
       "    </tr>\n",
       "    <tr>\n",
       "      <th>21586</th>\n",
       "      <td>1430</td>\n",
       "      <td>505.000</td>\n",
       "    </tr>\n",
       "    <tr>\n",
       "      <th>21587</th>\n",
       "      <td>1520</td>\n",
       "      <td>385.000</td>\n",
       "    </tr>\n",
       "    <tr>\n",
       "      <th>21588</th>\n",
       "      <td>1210</td>\n",
       "      <td>414.500</td>\n",
       "    </tr>\n",
       "    <tr>\n",
       "      <th>21589</th>\n",
       "      <td>2540</td>\n",
       "      <td>347.500</td>\n",
       "    </tr>\n",
       "    <tr>\n",
       "      <th>21590</th>\n",
       "      <td>4910</td>\n",
       "      <td>1222.500</td>\n",
       "    </tr>\n",
       "    <tr>\n",
       "      <th>21591</th>\n",
       "      <td>2770</td>\n",
       "      <td>572.000</td>\n",
       "    </tr>\n",
       "    <tr>\n",
       "      <th>21592</th>\n",
       "      <td>1190</td>\n",
       "      <td>475.000</td>\n",
       "    </tr>\n",
       "    <tr>\n",
       "      <th>21593</th>\n",
       "      <td>4170</td>\n",
       "      <td>1088.000</td>\n",
       "    </tr>\n",
       "    <tr>\n",
       "      <th>21594</th>\n",
       "      <td>2500</td>\n",
       "      <td>350.000</td>\n",
       "    </tr>\n",
       "    <tr>\n",
       "      <th>21595</th>\n",
       "      <td>1530</td>\n",
       "      <td>520.000</td>\n",
       "    </tr>\n",
       "    <tr>\n",
       "      <th>21596</th>\n",
       "      <td>3600</td>\n",
       "      <td>679.950</td>\n",
       "    </tr>\n",
       "    <tr>\n",
       "      <th>21597</th>\n",
       "      <td>3410</td>\n",
       "      <td>1575.000</td>\n",
       "    </tr>\n",
       "    <tr>\n",
       "      <th>21598</th>\n",
       "      <td>3118</td>\n",
       "      <td>541.800</td>\n",
       "    </tr>\n",
       "    <tr>\n",
       "      <th>21599</th>\n",
       "      <td>3990</td>\n",
       "      <td>810.000</td>\n",
       "    </tr>\n",
       "    <tr>\n",
       "      <th>21600</th>\n",
       "      <td>4470</td>\n",
       "      <td>1537.000</td>\n",
       "    </tr>\n",
       "    <tr>\n",
       "      <th>21601</th>\n",
       "      <td>1425</td>\n",
       "      <td>467.000</td>\n",
       "    </tr>\n",
       "    <tr>\n",
       "      <th>21602</th>\n",
       "      <td>1500</td>\n",
       "      <td>224.000</td>\n",
       "    </tr>\n",
       "    <tr>\n",
       "      <th>21603</th>\n",
       "      <td>2270</td>\n",
       "      <td>507.250</td>\n",
       "    </tr>\n",
       "    <tr>\n",
       "      <th>21604</th>\n",
       "      <td>1490</td>\n",
       "      <td>429.000</td>\n",
       "    </tr>\n",
       "    <tr>\n",
       "      <th>21605</th>\n",
       "      <td>2520</td>\n",
       "      <td>610.685</td>\n",
       "    </tr>\n",
       "    <tr>\n",
       "      <th>21606</th>\n",
       "      <td>3510</td>\n",
       "      <td>1007.500</td>\n",
       "    </tr>\n",
       "    <tr>\n",
       "      <th>21607</th>\n",
       "      <td>1310</td>\n",
       "      <td>475.000</td>\n",
       "    </tr>\n",
       "    <tr>\n",
       "      <th>21608</th>\n",
       "      <td>1530</td>\n",
       "      <td>360.000</td>\n",
       "    </tr>\n",
       "    <tr>\n",
       "      <th>21609</th>\n",
       "      <td>2310</td>\n",
       "      <td>400.000</td>\n",
       "    </tr>\n",
       "    <tr>\n",
       "      <th>21610</th>\n",
       "      <td>1020</td>\n",
       "      <td>402.101</td>\n",
       "    </tr>\n",
       "    <tr>\n",
       "      <th>21611</th>\n",
       "      <td>1600</td>\n",
       "      <td>400.000</td>\n",
       "    </tr>\n",
       "    <tr>\n",
       "      <th>21612</th>\n",
       "      <td>1020</td>\n",
       "      <td>325.000</td>\n",
       "    </tr>\n",
       "  </tbody>\n",
       "</table>\n",
       "<p>21613 rows × 2 columns</p>\n",
       "</div>"
      ],
      "text/plain": [
       "       sqft_living     price\n",
       "0             1180   221.900\n",
       "1             2570   538.000\n",
       "2              770   180.000\n",
       "3             1960   604.000\n",
       "4             1680   510.000\n",
       "5             5420  1225.000\n",
       "6             1715   257.500\n",
       "7             1060   291.850\n",
       "8             1780   229.500\n",
       "9             1890   323.000\n",
       "10            3560   662.500\n",
       "11            1160   468.000\n",
       "12            1430   310.000\n",
       "13            1370   400.000\n",
       "14            1810   530.000\n",
       "15            2950   650.000\n",
       "16            1890   395.000\n",
       "17            1600   485.000\n",
       "18            1200   189.000\n",
       "19            1250   230.000\n",
       "20            1620   385.000\n",
       "21            3050  2000.000\n",
       "22            2270   285.000\n",
       "23            1070   252.700\n",
       "24            2450   329.000\n",
       "25            1710   233.000\n",
       "26            2450   937.000\n",
       "27            1400   667.000\n",
       "28            1520   438.000\n",
       "29            2570   719.000\n",
       "...            ...       ...\n",
       "21583          710   399.950\n",
       "21584         1260   380.000\n",
       "21585         1870   270.000\n",
       "21586         1430   505.000\n",
       "21587         1520   385.000\n",
       "21588         1210   414.500\n",
       "21589         2540   347.500\n",
       "21590         4910  1222.500\n",
       "21591         2770   572.000\n",
       "21592         1190   475.000\n",
       "21593         4170  1088.000\n",
       "21594         2500   350.000\n",
       "21595         1530   520.000\n",
       "21596         3600   679.950\n",
       "21597         3410  1575.000\n",
       "21598         3118   541.800\n",
       "21599         3990   810.000\n",
       "21600         4470  1537.000\n",
       "21601         1425   467.000\n",
       "21602         1500   224.000\n",
       "21603         2270   507.250\n",
       "21604         1490   429.000\n",
       "21605         2520   610.685\n",
       "21606         3510  1007.500\n",
       "21607         1310   475.000\n",
       "21608         1530   360.000\n",
       "21609         2310   400.000\n",
       "21610         1020   402.101\n",
       "21611         1600   400.000\n",
       "21612         1020   325.000\n",
       "\n",
       "[21613 rows x 2 columns]"
      ]
     },
     "execution_count": 6,
     "metadata": {},
     "output_type": "execute_result"
    }
   ],
   "source": [
    "new_house_df"
   ]
  },
  {
   "cell_type": "code",
   "execution_count": 7,
   "metadata": {
    "scrolled": true
   },
   "outputs": [
    {
     "data": {
      "text/plain": [
       "<matplotlib.axes._subplots.AxesSubplot at 0x124336128>"
      ]
     },
     "execution_count": 7,
     "metadata": {},
     "output_type": "execute_result"
    },
    {
     "data": {
      "image/png": "[encoded data removed]",
      "text/plain": [
       "<Figure size 432x288 with 1 Axes>"
      ]
     },
     "metadata": {
      "needs_background": "light"
     },
     "output_type": "display_data"
    }
   ],
   "source": [
    "## visualize the 'price' and 'sqft_living' with boxplot\n",
    "\n",
    "new_house_df.boxplot()\n",
    "\n",
    "## watch  out the scales \n"
   ]
  },
  {
   "cell_type": "code",
   "execution_count": 9,
   "metadata": {},
   "outputs": [
    {
     "data": {
      "image/png": "[encoded data removed]",
      "text/plain": [
       "<Figure size 720x360 with 2 Axes>"
      ]
     },
     "metadata": {
      "needs_background": "light"
     },
     "output_type": "display_data"
    }
   ],
   "source": [
    "fig, axs = plt.subplots(1,2, figsize = (10,5))\n",
    "\n",
    "axs[0].boxplot(new_house_df.price)\n",
    "axs[1].boxplot(new_house_df.sqft_living);"
   ]
  },
  {
   "cell_type": "code",
   "execution_count": 52,
   "metadata": {},
   "outputs": [
    {
     "data": {
      "text/plain": [
       "<matplotlib.axes._subplots.AxesSubplot at 0x121b93dd8>"
      ]
     },
     "execution_count": 52,
     "metadata": {},
     "output_type": "execute_result"
    },
    {
     "data": {
      "image/png": "[encoded data removed]",
      "text/plain": [
       "<Figure size 432x288 with 1 Axes>"
      ]
     },
     "metadata": {
      "needs_background": "light"
     },
     "output_type": "display_data"
    }
   ],
   "source": [
    "## use pandas for boxplots"
   ]
  },
  {
   "cell_type": "code",
   "execution_count": 13,
   "metadata": {},
   "outputs": [
    {
     "data": {
      "text/plain": [
       "sqft_living    4978.8\n",
       "price          1964.4\n",
       "Name: 0.99, dtype: float64"
      ]
     },
     "execution_count": 13,
     "metadata": {},
     "output_type": "execute_result"
    }
   ],
   "source": [
    "## AS you can see there are outliers - let's cut them from our dataset - use 0.98 as the quantile\n",
    "new_house_df.quantile(q=.99)"
   ]
  },
  {
   "cell_type": "markdown",
   "metadata": {},
   "source": [
    "### Assumptions\n",
    "\n",
    "* Assume $\\mbox{price} \\approx \\mbox{sqft_living}$  linearly.\n",
    "\n",
    "* There is an initial value (baseline) of the price. \n",
    "\n",
    "* Data might not be exactly linear but the errors are random.\n",
    "\n",
    "### Model  - Single Variable Case\n",
    "\n",
    "$$ Y = b_{0} + b_{1}X + \\epsilon$$\n",
    " \n",
    "- $ b_{0}, b_{1}$ are called the intercept and coefficient of the linear model respectively. \n",
    "\n",
    "- $\\epsilon$ is the error term.\n",
    "\n",
    "- Given $\\widehat{b_{0}}$ and $\\widehat{b_{1}}$ we will make a prediction:\n",
    "\n",
    "$$ \\widehat{y_{i}} = \\widehat{b_{0}} + \\widehat{b_{1}} x_{i} $$\n",
    "\n",
    "<img src=\"best_fit.png\" cap=\"Transformed dataset\"  width='300'/>\n",
    "\n"
   ]
  },
  {
   "cell_type": "code",
   "execution_count": 16,
   "metadata": {},
   "outputs": [
    {
     "name": "stderr",
     "output_type": "stream",
     "text": [
      "/Users/flatironschool/anaconda3/lib/python3.7/site-packages/ipykernel_launcher.py:10: SettingWithCopyWarning: \n",
      "A value is trying to be set on a copy of a slice from a DataFrame.\n",
      "Try using .loc[row_indexer,col_indexer] = value instead\n",
      "\n",
      "See the caveats in the documentation: http://pandas.pydata.org/pandas-docs/stable/indexing.html#indexing-view-versus-copy\n",
      "  # Remove the CWD from sys.path while we load stuff.\n"
     ]
    },
    {
     "data": {
      "image/png": "[encoded data removed]",
      "text/plain": [
       "<Figure size 720x576 with 1 Axes>"
      ]
     },
     "metadata": {
      "needs_background": "light"
     },
     "output_type": "display_data"
    }
   ],
   "source": [
    "## play with this function what happens when you change b0_hat and b1_hat\n",
    "X = new_house_df.sqft_living.values\n",
    "y = new_house_df.price.values\n",
    "\n",
    "\n",
    "def pred(b0_hat, b1_hat):\n",
    "    y_pred = b0_hat + b1_hat * X\n",
    "    \n",
    "    \n",
    "    new_house_df['predicted'] = y_pred\n",
    "    \n",
    "    # Data for plotting\n",
    "    t = new_house_df.sqft_living.values\n",
    "    s = new_house_df.predicted.values\n",
    "    \n",
    "    plt.figure(figsize= (10,8))\n",
    "\n",
    "    \n",
    "\n",
    "    plt.scatter(x= new_house_df.sqft_living, y= new_house_df.price)\n",
    "    plt.plot(t, s, c= 'r')\n",
    "\n",
    "    plt.xlabel('sqft_living')\n",
    "    plt.ylabel('price')\n",
    "    plt.title('A prediction for prices')\n",
    "\n",
    "    plt.show()\n",
    "    return \n",
    "\n",
    "pred(100, 0.6)\n"
   ]
  },
  {
   "cell_type": "markdown",
   "metadata": {},
   "source": [
    "### What do we mean by 'best fitting line'? Least Squares\n",
    "\n",
    "<a name=\"least_squares\">\n",
    "</a>\n",
    "\n",
    "__Q: How to find 'best' line?__\n",
    "\n",
    "\n",
    "<img src=\"errors.png\" cap=\"Transformed dataset\"  width='500'/>\n",
    "\n",
    "\n",
    "\n",
    "* Recall that we know actual values $y$ for the prices and for any coefficients $b_{0}, b_{1}$ we can make a prediction $\\widehat{y}$. \n",
    "\n",
    "* Error for each prediction $e_{i} = y_{i} - \\widehat{y_{i}}$\n",
    "\n",
    "\n",
    "\n",
    "### Residual sum of squares\n",
    "\n",
    "\n",
    "$$RSS = e_{1}^{2} + e_{2}^{2} + \\cdots + e_{n}^{2}$$\n",
    "\n",
    "* Wait a minute! Why do we get the squares?\n",
    "\n",
    "\n",
    "The least square method minimizes the RSS.\n",
    "\n",
    "* Good news: The least square can be calculated exactly because it has a closed form:\n",
    "\n",
    "$$ \\mbox{RSS} = (y_1 - \\widehat{b_{0}} -\\widehat{b_{1}}x_{1} )^{2} + (y_2 - \\widehat{b_{0}} -\\widehat{b_{1}}x_{2} )^{2} + \\cdots + (y_n - \\widehat{b_{0}} -\\widehat{b_{1}}x_{n} )^{2}$$\n",
    "\n",
    "* Bad news: It requires derivatives and is complicated to derive. But no worries, python will take care of this step for us.\n",
    "\n",
    "$$ b_{1} = \\dfrac{\\sum^{n}_{i=1} (x_i - \\bar{x})(y_{i}-\\bar{y})}{\\sum^{n}_{i=1} (x_i - \\bar{x})^{2}}$$\n",
    "\n",
    "and \n",
    "\n",
    "$$ b_0 = \\bar{y} - b_{1}\\bar{x} $$\n",
    "\n",
    "\n",
    "Let's see linear regression in action.\n",
    "\n",
    "\n",
    "<a name=\"sklearn\">\n",
    "</a>\n",
    "\n",
    "## Linear Regression Using sklearn"
   ]
  },
  {
   "cell_type": "code",
   "execution_count": 21,
   "metadata": {
    "scrolled": true
   },
   "outputs": [],
   "source": [
    "# define X and y again here and reshape them\n",
    "x = new_house_df.sqft_living.values\n",
    "Y = new_house_df.price\n",
    "\n",
    "# import LinearRegression from sklearn\n",
    "from sklearn.linear_model import LinearRegression\n",
    "\n",
    "\n",
    "# Initialize the LinearRegression Object\n",
    "\n",
    "\n",
    "# Fit the model\n",
    "\n",
    "\n",
    "# print intercept and coef attributes of LinerRegression Object\n",
    "\n"
   ]
  },
  {
   "cell_type": "code",
   "execution_count": 23,
   "metadata": {},
   "outputs": [],
   "source": [
    "x = x.reshape(-1,1)"
   ]
  },
  {
   "cell_type": "code",
   "execution_count": 25,
   "metadata": {},
   "outputs": [
    {
     "data": {
      "text/plain": [
       "(21613, 1)"
      ]
     },
     "execution_count": 25,
     "metadata": {},
     "output_type": "execute_result"
    }
   ],
   "source": [
    "x.shape"
   ]
  },
  {
   "cell_type": "code",
   "execution_count": 26,
   "metadata": {},
   "outputs": [],
   "source": [
    "lr = LinearRegression()"
   ]
  },
  {
   "cell_type": "code",
   "execution_count": 27,
   "metadata": {},
   "outputs": [
    {
     "data": {
      "text/plain": [
       "LinearRegression(copy_X=True, fit_intercept=True, n_jobs=None, normalize=False)"
      ]
     },
     "execution_count": 27,
     "metadata": {},
     "output_type": "execute_result"
    }
   ],
   "source": [
    "lr.fit(x,y)"
   ]
  },
  {
   "cell_type": "code",
   "execution_count": 12,
   "metadata": {},
   "outputs": [
    {
     "data": {
      "image/png": "[encoded data removed]",
      "text/plain": [
       "<Figure size 720x576 with 1 Axes>"
      ]
     },
     "metadata": {
      "needs_background": "light"
     },
     "output_type": "display_data"
    }
   ],
   "source": [
    "## call pred function to see the 'best fitting line'\n",
    "\n",
    "pred(intercept, coef)"
   ]
  },
  {
   "cell_type": "code",
   "execution_count": null,
   "metadata": {},
   "outputs": [],
   "source": []
  },
  {
   "cell_type": "markdown",
   "metadata": {},
   "source": [
    "## Further Reading <a name='further_reading'></a>\n",
    "\n",
    "- https://newonlinecourses.science.psu.edu/stat501/node/252/\n",
    "\n",
    "- https://towardsdatascience.com/simple-and-multiple-linear-regression-in-python-c928425168f9\n",
    "\n",
    "- https://www.statsmodels.org/stable/examples/notebooks/generated/ols.html\n",
    "\n",
    "- https://lagunita.stanford.edu/assets/courseware/v1/e4f2f4823252ead8c1a68722e3415c28/c4x/HumanitiesSciences/StatLearning/asset/linear_regression-handout.pdf"
   ]
  }
 ],
 "metadata": {
  "kernelspec": {
   "display_name": "Python 3",
   "language": "python",
   "name": "python3"
  },
  "language_info": {
   "codemirror_mode": {
    "name": "ipython",
    "version": 3
   },
   "file_extension": ".py",
   "mimetype": "text/x-python",
   "name": "python",
   "nbconvert_exporter": "python",
   "pygments_lexer": "ipython3",
   "version": "3.7.3"
  }
 },
 "nbformat": 4,
 "nbformat_minor": 2
}
